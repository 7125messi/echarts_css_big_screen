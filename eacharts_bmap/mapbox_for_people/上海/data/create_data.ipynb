{
 "cells": [
  {
   "cell_type": "code",
   "execution_count": 60,
   "metadata": {},
   "outputs": [],
   "source": [
    "import numpy as np\n",
    "import pandas as pd\n",
    "import json\n",
    "import csv\n",
    "\n",
    "df = pd.read_csv('./visualization_for_gis_data.csv')\n",
    "\n",
    "time_count = df['TIME'].drop_duplicates()\n",
    "taz_id_count = df['TAZ_ID'].drop_duplicates()\n",
    "\n",
    "# [print(i) for i in time_count.index]\n",
    "# [print(i) for i in taz_id_count.index]\n",
    "\n",
    "l1 = []\n",
    "for i in taz_id_count.index:\n",
    "    temp1 = [df.loc[i,'ENTER_PRE'],df.loc[i,'EXIT_PRE'],df.loc[i,'STAY_PRE']]\n",
    "    l1.append(temp1)\n",
    "\n",
    "ar = time_count.index.values.tolist()\n",
    "\n",
    "l2 = []\n",
    "for j in range(len(ar)):\n",
    "    if j<len(ar)-1:\n",
    "        l2.append(l1[ar[j]:ar[j+1]])\n",
    "    else:\n",
    "        l2.append(l1[ar[j]:])"
   ]
  }
 ],
 "metadata": {
  "kernelspec": {
   "display_name": "Python 3",
   "language": "python",
   "name": "python3"
  },
  "language_info": {
   "codemirror_mode": {
    "name": "ipython",
    "version": 3
   },
   "file_extension": ".py",
   "mimetype": "text/x-python",
   "name": "python",
   "nbconvert_exporter": "python",
   "pygments_lexer": "ipython3",
   "version": "3.7.1"
  }
 },
 "nbformat": 4,
 "nbformat_minor": 2
}
